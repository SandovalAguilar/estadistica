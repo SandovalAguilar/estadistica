{
 "cells": [
  {
   "cell_type": "markdown",
   "metadata": {},
   "source": [
    "# Producto Integrador de Aprendizaje <img src=\"fcfm.png\" style=\"width: 80px;\" style=\"float: right;\"  align=\"right\"  margin-right= \"50px\"/>\n",
    "\n",
    "031 A2023 Estadística \n",
    "\n",
    "Dr. Álvaro Eduardo Cordero Franco\n",
    "\n",
    "Ismael Sandoval Aguilar \n",
    "\n",
    "26 de noviembre de 2023"
   ]
  },
  {
   "cell_type": "markdown",
   "metadata": {
    "vscode": {
     "languageId": "r"
    }
   },
   "source": [
    "### Situación problema\n",
    "\n",
    "Narula y Wellington (1977) dan datos sobre precio de ventas de 28 casas en Erie, Pensilvania, a inicios de 1970, en donde agrega 11 posibles variables predictoras. Accese a los datos a través de la librería `HH`, `data(\"hpErie\")`. Las variables son:\n",
    "\n",
    "| Variable | Description                                    |\n",
    "|----------|------------------------------------------------|\n",
    "| price    | price in $100's                                |\n",
    "| taxes    | taxes in dollars                               |\n",
    "| bathrm   | number of bathrooms                            |\n",
    "| lotsize  | lot size in square feet                        |\n",
    "| sqfeet   | square footage of living space                 |\n",
    "| garage   | number of cars for which there is garage space |\n",
    "| rooms    | number of romos                                |\n",
    "| bedrm    | number of bedrooms                             |\n",
    "| age      | age in years                                   |\n",
    "| type     | type of house                                  |\n",
    "| style    | \"2 story, 1.5 story, ranch\"                   |\n",
    "| fireplac | number of fireplaces                           |\n"
   ]
  },
  {
   "cell_type": "markdown",
   "metadata": {},
   "source": [
    "Código para acceder a los datos:"
   ]
  },
  {
   "cell_type": "code",
   "execution_count": 21,
   "metadata": {
    "vscode": {
     "languageId": "r"
    }
   },
   "outputs": [],
   "source": [
    "# Libreria para cargar los datos\n",
    "library(\"HH\")"
   ]
  },
  {
   "cell_type": "code",
   "execution_count": 2,
   "metadata": {
    "vscode": {
     "languageId": "r"
    }
   },
   "outputs": [
    {
     "data": {
      "text/html": [
       "<table class=\"dataframe\">\n",
       "<caption>A data.frame: 6 × 12</caption>\n",
       "<thead>\n",
       "\t<tr><th></th><th scope=col>price</th><th scope=col>taxes</th><th scope=col>bathrm</th><th scope=col>lotsize</th><th scope=col>sqfeet</th><th scope=col>garage</th><th scope=col>rooms</th><th scope=col>bedrm</th><th scope=col>age</th><th scope=col>type</th><th scope=col>style</th><th scope=col>fireplac</th></tr>\n",
       "\t<tr><th></th><th scope=col>&lt;int&gt;</th><th scope=col>&lt;int&gt;</th><th scope=col>&lt;dbl&gt;</th><th scope=col>&lt;int&gt;</th><th scope=col>&lt;int&gt;</th><th scope=col>&lt;dbl&gt;</th><th scope=col>&lt;int&gt;</th><th scope=col>&lt;int&gt;</th><th scope=col>&lt;int&gt;</th><th scope=col>&lt;fct&gt;</th><th scope=col>&lt;fct&gt;</th><th scope=col>&lt;int&gt;</th></tr>\n",
       "</thead>\n",
       "<tbody>\n",
       "\t<tr><th scope=row>1</th><td>259</td><td>492</td><td>1</td><td>3472</td><td> 998</td><td>1</td><td>7</td><td>4</td><td>42</td><td>alum&amp;frame </td><td>2.story</td><td>0</td></tr>\n",
       "\t<tr><th scope=row>2</th><td>295</td><td>502</td><td>1</td><td>3531</td><td>1500</td><td>2</td><td>7</td><td>4</td><td>62</td><td>brick      </td><td>2.story</td><td>0</td></tr>\n",
       "\t<tr><th scope=row>3</th><td>279</td><td>454</td><td>1</td><td>2275</td><td>1175</td><td>1</td><td>6</td><td>3</td><td>40</td><td>brick&amp;frame</td><td>2.story</td><td>0</td></tr>\n",
       "\t<tr><th scope=row>4</th><td>259</td><td>456</td><td>1</td><td>4050</td><td>1232</td><td>1</td><td>6</td><td>3</td><td>54</td><td>frame      </td><td>2.story</td><td>0</td></tr>\n",
       "\t<tr><th scope=row>5</th><td>299</td><td>506</td><td>1</td><td>4455</td><td>1121</td><td>1</td><td>6</td><td>3</td><td>42</td><td>alum&amp;frame </td><td>2.story</td><td>0</td></tr>\n",
       "\t<tr><th scope=row>6</th><td>299</td><td>389</td><td>1</td><td>4455</td><td> 988</td><td>1</td><td>6</td><td>3</td><td>56</td><td>brick&amp;frame</td><td>2.story</td><td>0</td></tr>\n",
       "</tbody>\n",
       "</table>\n"
      ],
      "text/latex": [
       "A data.frame: 6 × 12\n",
       "\\begin{tabular}{r|llllllllllll}\n",
       "  & price & taxes & bathrm & lotsize & sqfeet & garage & rooms & bedrm & age & type & style & fireplac\\\\\n",
       "  & <int> & <int> & <dbl> & <int> & <int> & <dbl> & <int> & <int> & <int> & <fct> & <fct> & <int>\\\\\n",
       "\\hline\n",
       "\t1 & 259 & 492 & 1 & 3472 &  998 & 1 & 7 & 4 & 42 & alum\\&frame  & 2.story & 0\\\\\n",
       "\t2 & 295 & 502 & 1 & 3531 & 1500 & 2 & 7 & 4 & 62 & brick       & 2.story & 0\\\\\n",
       "\t3 & 279 & 454 & 1 & 2275 & 1175 & 1 & 6 & 3 & 40 & brick\\&frame & 2.story & 0\\\\\n",
       "\t4 & 259 & 456 & 1 & 4050 & 1232 & 1 & 6 & 3 & 54 & frame       & 2.story & 0\\\\\n",
       "\t5 & 299 & 506 & 1 & 4455 & 1121 & 1 & 6 & 3 & 42 & alum\\&frame  & 2.story & 0\\\\\n",
       "\t6 & 299 & 389 & 1 & 4455 &  988 & 1 & 6 & 3 & 56 & brick\\&frame & 2.story & 0\\\\\n",
       "\\end{tabular}\n"
      ],
      "text/markdown": [
       "\n",
       "A data.frame: 6 × 12\n",
       "\n",
       "| <!--/--> | price &lt;int&gt; | taxes &lt;int&gt; | bathrm &lt;dbl&gt; | lotsize &lt;int&gt; | sqfeet &lt;int&gt; | garage &lt;dbl&gt; | rooms &lt;int&gt; | bedrm &lt;int&gt; | age &lt;int&gt; | type &lt;fct&gt; | style &lt;fct&gt; | fireplac &lt;int&gt; |\n",
       "|---|---|---|---|---|---|---|---|---|---|---|---|---|\n",
       "| 1 | 259 | 492 | 1 | 3472 |  998 | 1 | 7 | 4 | 42 | alum&amp;frame  | 2.story | 0 |\n",
       "| 2 | 295 | 502 | 1 | 3531 | 1500 | 2 | 7 | 4 | 62 | brick       | 2.story | 0 |\n",
       "| 3 | 279 | 454 | 1 | 2275 | 1175 | 1 | 6 | 3 | 40 | brick&amp;frame | 2.story | 0 |\n",
       "| 4 | 259 | 456 | 1 | 4050 | 1232 | 1 | 6 | 3 | 54 | frame       | 2.story | 0 |\n",
       "| 5 | 299 | 506 | 1 | 4455 | 1121 | 1 | 6 | 3 | 42 | alum&amp;frame  | 2.story | 0 |\n",
       "| 6 | 299 | 389 | 1 | 4455 |  988 | 1 | 6 | 3 | 56 | brick&amp;frame | 2.story | 0 |\n",
       "\n"
      ],
      "text/plain": [
       "  price taxes bathrm lotsize sqfeet garage rooms bedrm age type        style  \n",
       "1 259   492   1      3472     998   1      7     4     42  alum&frame  2.story\n",
       "2 295   502   1      3531    1500   2      7     4     62  brick       2.story\n",
       "3 279   454   1      2275    1175   1      6     3     40  brick&frame 2.story\n",
       "4 259   456   1      4050    1232   1      6     3     54  frame       2.story\n",
       "5 299   506   1      4455    1121   1      6     3     42  alum&frame  2.story\n",
       "6 299   389   1      4455     988   1      6     3     56  brick&frame 2.story\n",
       "  fireplac\n",
       "1 0       \n",
       "2 0       \n",
       "3 0       \n",
       "4 0       \n",
       "5 0       \n",
       "6 0       "
      ]
     },
     "metadata": {},
     "output_type": "display_data"
    }
   ],
   "source": [
    "data <- data(\"hpErie\")\n",
    "df <- as.data.frame(hpErie)\n",
    "\n",
    "head(df)"
   ]
  },
  {
   "cell_type": "markdown",
   "metadata": {},
   "source": [
    "#### 1.\tRealice un ANOVA para comparar los promedios de los precios de las casas, bajo el factor `fireplac`"
   ]
  },
  {
   "cell_type": "code",
   "execution_count": 22,
   "metadata": {
    "vscode": {
     "languageId": "r"
    }
   },
   "outputs": [],
   "source": [
    "# Libreria para el anova\n",
    "library(tidyverse)"
   ]
  },
  {
   "cell_type": "code",
   "execution_count": 4,
   "metadata": {
    "vscode": {
     "languageId": "r"
    }
   },
   "outputs": [],
   "source": [
    "# Creacion del anova\n",
    "anova <- aov(df$price ~ df$fireplac, data = df)"
   ]
  },
  {
   "cell_type": "markdown",
   "metadata": {},
   "source": [
    "Utilizaremos la prueba de Shapiro-Wilk para verificar la normalidad de los residuos del modelo con un nivel de significancia $\\alpha = 0.05$."
   ]
  },
  {
   "cell_type": "code",
   "execution_count": 5,
   "metadata": {
    "vscode": {
     "languageId": "r"
    }
   },
   "outputs": [
    {
     "data": {
      "text/plain": [
       "\n",
       "\tShapiro-Wilk normality test\n",
       "\n",
       "data:  residuals(anova)\n",
       "W = 0.8258, p-value = 0.0003153\n"
      ]
     },
     "metadata": {},
     "output_type": "display_data"
    }
   ],
   "source": [
    "# Prueba de Shapiro-Wilk\n",
    "shapiro.test(residuals(anova))"
   ]
  },
  {
   "cell_type": "markdown",
   "metadata": {},
   "source": [
    "Ya que el p-valor es menor a $\\alpha$, existe evidencia suficiente rechazar $H_0$. Es decir, los residuos del modelo no siguen una distribución normal. Ahora, utilizaremos la prueba de Levene para verificar la homocedasticidad del modelo con el mismo nivel de significancia de la prueba anterior."
   ]
  },
  {
   "cell_type": "code",
   "execution_count": 23,
   "metadata": {
    "vscode": {
     "languageId": "r"
    }
   },
   "outputs": [],
   "source": [
    "# Libreria para la prueba de Levene\n",
    "library(car)"
   ]
  },
  {
   "cell_type": "code",
   "execution_count": 7,
   "metadata": {
    "vscode": {
     "languageId": "r"
    }
   },
   "outputs": [
    {
     "data": {
      "text/html": [
       "<table class=\"dataframe\">\n",
       "<caption>A anova: 2 × 3</caption>\n",
       "<thead>\n",
       "\t<tr><th></th><th scope=col>Df</th><th scope=col>F value</th><th scope=col>Pr(&gt;F)</th></tr>\n",
       "\t<tr><th></th><th scope=col>&lt;int&gt;</th><th scope=col>&lt;dbl&gt;</th><th scope=col>&lt;dbl&gt;</th></tr>\n",
       "</thead>\n",
       "<tbody>\n",
       "\t<tr><th scope=row>group</th><td> 1</td><td>3.978008</td><td>0.05668164</td></tr>\n",
       "\t<tr><th scope=row> </th><td>26</td><td>      NA</td><td>        NA</td></tr>\n",
       "</tbody>\n",
       "</table>\n"
      ],
      "text/latex": [
       "A anova: 2 × 3\n",
       "\\begin{tabular}{r|lll}\n",
       "  & Df & F value & Pr(>F)\\\\\n",
       "  & <int> & <dbl> & <dbl>\\\\\n",
       "\\hline\n",
       "\tgroup &  1 & 3.978008 & 0.05668164\\\\\n",
       "\t  & 26 &       NA &         NA\\\\\n",
       "\\end{tabular}\n"
      ],
      "text/markdown": [
       "\n",
       "A anova: 2 × 3\n",
       "\n",
       "| <!--/--> | Df &lt;int&gt; | F value &lt;dbl&gt; | Pr(&gt;F) &lt;dbl&gt; |\n",
       "|---|---|---|---|\n",
       "| group |  1 | 3.978008 | 0.05668164 |\n",
       "| <!----> | 26 |       NA |         NA |\n",
       "\n"
      ],
      "text/plain": [
       "      Df F value  Pr(>F)    \n",
       "group  1 3.978008 0.05668164\n",
       "      26       NA         NA"
      ]
     },
     "metadata": {},
     "output_type": "display_data"
    }
   ],
   "source": [
    "# Prueba de Levene\n",
    "leveneTest(df$price ~ factor(df$fireplac), data = df)"
   ]
  },
  {
   "cell_type": "markdown",
   "metadata": {},
   "source": [
    "En este caso, el p-valor es ligeramente superior a $\\alpha$, por lo que existe evidencia para no rechazar $H_0$. Por lo tanto, es probable que todas las varianzas del modelo sean iguales. \n",
    "\n",
    "Si bien no se cumple uno de los supuestos, podemos continuar con el ANOVA ya que este modelo se considera robusto contra la normalidad. Se busca contrastar:\n",
    "\n",
    "El promedio del precio de las casas el mismo:\n",
    "\n",
    "- $H_0$: entre el número de chimeneas.\n",
    "\n",
    "Al menos uno de los promedios del precio de las casas es diferente:\n",
    "\n",
    "- $H_1$: entre el número de chimeneas.\n",
    "\n",
    "Con un nivel de significancia $\\alpha = 0.05$."
   ]
  },
  {
   "cell_type": "code",
   "execution_count": 8,
   "metadata": {
    "vscode": {
     "languageId": "r"
    }
   },
   "outputs": [
    {
     "data": {
      "text/plain": [
       "            Df Sum Sq Mean Sq F value  Pr(>F)   \n",
       "df$fireplac  1 129951  129951   8.217 0.00812 **\n",
       "Residuals   26 411168   15814                   \n",
       "---\n",
       "Signif. codes:  0 ‘***’ 0.001 ‘**’ 0.01 ‘*’ 0.05 ‘.’ 0.1 ‘ ’ 1"
      ]
     },
     "metadata": {},
     "output_type": "display_data"
    }
   ],
   "source": [
    "summary(anova)"
   ]
  },
  {
   "cell_type": "markdown",
   "metadata": {},
   "source": [
    "De acuerdo a la tabla anterior, existe evidencia suficiente para decir que hay diferencias significativas en el precio promedio de las casas entre el número de chimeneas, pues el p-valor es menor a $\\alpha$. Es decir, se rechaza la hipótesis nula."
   ]
  },
  {
   "cell_type": "markdown",
   "metadata": {},
   "source": [
    "#### 2.\tRealice una regresión lineal de la variable precio contra 4 variables predictoras aleatorias, seguido de un Stepwise bajo el siguiente esquema (esto garantizará que no tengan el mismo modelo)"
   ]
  },
  {
   "cell_type": "markdown",
   "metadata": {},
   "source": [
    "- Seleccione 4 variables al azar con la función `sample(11, 4)`. Los índices generados serán los de las variables a utilizar."
   ]
  },
  {
   "cell_type": "code",
   "execution_count": 9,
   "metadata": {
    "vscode": {
     "languageId": "r"
    }
   },
   "outputs": [],
   "source": [
    "# Semilla arbitraria para replicabilidad\n",
    "set.seed(100)\n",
    "\n",
    "# Seleccion aleatoria sin tomar la variable dependiente\n",
    "index_vec <- sample(seq(2, 12, by = 1), 4)"
   ]
  },
  {
   "cell_type": "code",
   "execution_count": 24,
   "metadata": {
    "vscode": {
     "languageId": "r"
    }
   },
   "outputs": [
    {
     "data": {
      "text/html": [
       "<style>\n",
       ".list-inline {list-style: none; margin:0; padding: 0}\n",
       ".list-inline>li {display: inline-block}\n",
       ".list-inline>li:not(:last-child)::after {content: \"\\00b7\"; padding: 0 .5ex}\n",
       "</style>\n",
       "<ol class=list-inline><li>'style 11'</li><li>'bedrm 8'</li><li>'rooms 7'</li><li>'age 9'</li></ol>\n"
      ],
      "text/latex": [
       "\\begin{enumerate*}\n",
       "\\item 'style 11'\n",
       "\\item 'bedrm 8'\n",
       "\\item 'rooms 7'\n",
       "\\item 'age 9'\n",
       "\\end{enumerate*}\n"
      ],
      "text/markdown": [
       "1. 'style 11'\n",
       "2. 'bedrm 8'\n",
       "3. 'rooms 7'\n",
       "4. 'age 9'\n",
       "\n",
       "\n"
      ],
      "text/plain": [
       "[1] \"style 11\" \"bedrm 8\"  \"rooms 7\"  \"age 9\"   "
      ]
     },
     "metadata": {},
     "output_type": "display_data"
    },
    {
     "data": {
      "text/plain": [
       "       style        bedrm           rooms             age       \n",
       " 2.story  :24   Min.   :2.000   Min.   : 5.000   Min.   : 3.00  \n",
       " 1.5.story: 2   1st Qu.:3.000   1st Qu.: 6.000   1st Qu.:30.00  \n",
       " ranch    : 2   Median :3.000   Median : 6.000   Median :36.00  \n",
       "                Mean   :3.286   Mean   : 6.679   Mean   :36.32  \n",
       "                3rd Qu.:4.000   3rd Qu.: 7.000   3rd Qu.:46.50  \n",
       "                Max.   :5.000   Max.   :10.000   Max.   :62.00  "
      ]
     },
     "metadata": {},
     "output_type": "display_data"
    }
   ],
   "source": [
    "# Nombres de las columnas seleccionadas y tipo\n",
    "paste(names(df[index_vec]), index_vec)\n",
    "summary(df[index_vec])"
   ]
  },
  {
   "cell_type": "markdown",
   "metadata": {},
   "source": [
    "Las variables seleccionadas son `style`, `bedrm`, `rooms` y `age`."
   ]
  },
  {
   "cell_type": "markdown",
   "metadata": {},
   "source": [
    "- Utilice la función `lm` para realizar una regresión lineal múltiple con las 4 variables del primer inciso y concluya en forma estadística."
   ]
  },
  {
   "cell_type": "code",
   "execution_count": 10,
   "metadata": {
    "vscode": {
     "languageId": "r"
    }
   },
   "outputs": [],
   "source": [
    "# Crea la formula como cadena y aplica sapply\n",
    "predictors <- sapply(index_vec, function(i) paste0(\"unlist(df[\", i, \"])\"))\n",
    "formula_str <- paste(\"df$price ~\", paste(predictors, collapse = \" + \"))\n",
    "\n",
    "# Crea el modelo lineal inicial\n",
    "initial_lm <- lm(as.formula(formula_str), data = df)"
   ]
  },
  {
   "cell_type": "code",
   "execution_count": 11,
   "metadata": {
    "vscode": {
     "languageId": "r"
    }
   },
   "outputs": [],
   "source": [
    "# Libreria para el modelo Stepwise\n",
    "library(MASS)"
   ]
  },
  {
   "cell_type": "code",
   "execution_count": 12,
   "metadata": {
    "vscode": {
     "languageId": "r"
    }
   },
   "outputs": [
    {
     "data": {
      "text/plain": [
       "\n",
       "Call:\n",
       "lm(formula = df$price ~ unlist(df[7]) + unlist(df[9]), data = df)\n",
       "\n",
       "Residuals:\n",
       "    Min      1Q  Median      3Q     Max \n",
       "-148.50  -41.37  -17.51   50.53  167.94 \n",
       "\n",
       "Coefficients:\n",
       "              Estimate Std. Error t value Pr(>|t|)    \n",
       "(Intercept)   -141.986     99.347  -1.429  0.16533    \n",
       "unlist(df[7])   95.565     13.436   7.113 1.87e-07 ***\n",
       "unlist(df[9])   -3.157      1.125  -2.808  0.00954 ** \n",
       "---\n",
       "Signif. codes:  0 ‘***’ 0.001 ‘**’ 0.01 ‘*’ 0.05 ‘.’ 0.1 ‘ ’ 1\n",
       "\n",
       "Residual standard error: 80.73 on 25 degrees of freedom\n",
       "Multiple R-squared:  0.6989,\tAdjusted R-squared:  0.6748 \n",
       "F-statistic: 29.01 on 2 and 25 DF,  p-value: 3.047e-07\n"
      ]
     },
     "metadata": {},
     "output_type": "display_data"
    }
   ],
   "source": [
    "# Modelo de regresion Stepwise y resultados\n",
    "step_model <- stepAIC(initial_lm, direction = \"both\",\n",
    "                      trace = FALSE)\n",
    "summary(step_model)"
   ]
  },
  {
   "cell_type": "markdown",
   "metadata": {},
   "source": [
    "De acuerdo a los resultados anteriores, el modelo de regresión lineal es el siguiente:\n",
    "\n",
    "$Y = -141.986 + 95.565X_1 - 3.157X_2$\n",
    "\n",
    "con un $R^2$ ajustada de $0.674$, es decir, el $67\\%$ de la varianza de la variable dependiente puede ser explicada mediante las variables incluidas en el modelo. Además, nótese que se rechazan las hipótesis nulas de $X_1$ y $X_2$ (con un nivel de significancia $\\alpha=0.05$), por lo que existe evidencia suficiente para concluir que las variables `room` y `age` tienen un efecto significativo en el modelo."
   ]
  },
  {
   "cell_type": "markdown",
   "metadata": {},
   "source": [
    "- Haga una matriz de correlación entre la variable `price` contra las 4 variables del inciso primer inciso."
   ]
  },
  {
   "cell_type": "code",
   "execution_count": 14,
   "metadata": {
    "vscode": {
     "languageId": "r"
    }
   },
   "outputs": [],
   "source": [
    "# Conversion de las variables categoricas a dummy\n",
    "df_dummy <- model.matrix(~ style - 1, data = df)\n",
    "df_for_cor <- cbind(df, df_dummy)"
   ]
  },
  {
   "cell_type": "code",
   "execution_count": 15,
   "metadata": {
    "vscode": {
     "languageId": "r"
    }
   },
   "outputs": [],
   "source": [
    "# Matriz de correlacion\n",
    "selected_vars <- c(\"price\", \"age\", \"bedrm\", \"rooms\", colnames(df_dummy))\n",
    "corr_matrix <- cor(df_for_cor[selected_vars], use = \"complete.obs\")"
   ]
  },
  {
   "cell_type": "code",
   "execution_count": 25,
   "metadata": {
    "vscode": {
     "languageId": "r"
    }
   },
   "outputs": [],
   "source": [
    "# Librerias para graficar\n",
    "library(ggplot2)\n",
    "library(corrplot)"
   ]
  },
  {
   "cell_type": "code",
   "execution_count": 17,
   "metadata": {
    "vscode": {
     "languageId": "r"
    }
   },
   "outputs": [
    {
     "data": {
      "image/png": "[encoded data removed]",
      "text/plain": [
       "Plot with title “”"
      ]
     },
     "metadata": {
      "image/png": {
       "height": 420,
       "width": 420
      }
     },
     "output_type": "display_data"
    }
   ],
   "source": [
    "# Grafica\n",
    "corrplot(corr_matrix, method = \"circle\")"
   ]
  },
  {
   "cell_type": "markdown",
   "metadata": {},
   "source": [
    "-\tSi la variable `sqfeet` fue seleccionada en el primer inciso, agregue una columna con el cuadrado de dicha variable y vuelva a realizar la regresión. Si no fue seleccionada, agréguela junto con su cuadrado. ¿Cómo cambian los resultados?"
   ]
  },
  {
   "cell_type": "code",
   "execution_count": 18,
   "metadata": {
    "vscode": {
     "languageId": "r"
    }
   },
   "outputs": [],
   "source": [
    "# Creacion de la nueva columna elevada al cuadrado\n",
    "df[\"sqfeet_squared\"] <- df[\"sqfeet\"] ^ 2"
   ]
  },
  {
   "cell_type": "code",
   "execution_count": 19,
   "metadata": {
    "vscode": {
     "languageId": "r"
    }
   },
   "outputs": [],
   "source": [
    "# Modelo de regresion lineal con la nueva variable\n",
    "new_lm <- lm(as.formula(paste(formula_str, \"+ df$sqfeet_squared\")), data = df)"
   ]
  },
  {
   "cell_type": "code",
   "execution_count": 20,
   "metadata": {
    "vscode": {
     "languageId": "r"
    }
   },
   "outputs": [
    {
     "data": {
      "text/plain": [
       "\n",
       "Call:\n",
       "lm(formula = df$price ~ unlist(df[9]) + df$sqfeet_squared, data = df)\n",
       "\n",
       "Residuals:\n",
       "    Min      1Q  Median      3Q     Max \n",
       "-82.114 -28.372   0.964  30.406  80.482 \n",
       "\n",
       "Coefficients:\n",
       "                    Estimate Std. Error t value Pr(>|t|)    \n",
       "(Intercept)        3.008e+02  2.726e+01   11.03 4.26e-11 ***\n",
       "unlist(df[9])     -1.698e+00  6.268e-01   -2.71    0.012 *  \n",
       "df$sqfeet_squared  5.534e-05  3.701e-06   14.95 5.63e-14 ***\n",
       "---\n",
       "Signif. codes:  0 ‘***’ 0.001 ‘**’ 0.01 ‘*’ 0.05 ‘.’ 0.1 ‘ ’ 1\n",
       "\n",
       "Residual standard error: 44.52 on 25 degrees of freedom\n",
       "Multiple R-squared:  0.9084,\tAdjusted R-squared:  0.9011 \n",
       "F-statistic:   124 on 2 and 25 DF,  p-value: 1.051e-13\n"
      ]
     },
     "metadata": {},
     "output_type": "display_data"
    }
   ],
   "source": [
    "# Modelo Stepwise con la nueva variable y resultados\n",
    "new_step_model <- stepAIC(new_lm, direction = \"both\",\n",
    "                          trace = FALSE)\n",
    "summary(new_step_model)"
   ]
  },
  {
   "cell_type": "markdown",
   "metadata": {},
   "source": [
    "De acuerdo a los resultados anteriores, el modelo de regresión lineal es el siguiente:\n",
    "\n",
    "$Y = 3.008 \\times 10^{2}  -1.698 X_1 +  5.534 \\times 10^5 X_2$\n",
    "\n",
    "con un $R^2$ ajustada de $0.901$, es decir, el $90\\%$ de la varianza de la variable dependiente puede ser explicada mediante las variables incluidas en el modelo. Además, nótese que se rechazan las hipótesis nulas de $X_1$ y $X_2$ (con un nivel de significancia $\\alpha=0.05$), por lo que existe evidencia suficiente para concluir que las variables `age` y `sqfeet_squared` tienen un efecto significativo en el modelo. Cabe destacar que este modelo tiene un $R^2$ ajustada mejor que el anterior, utilizando dos variables diferentes."
   ]
  }
 ],
 "metadata": {
  "kernelspec": {
   "display_name": "R",
   "language": "R",
   "name": "ir"
  },
  "language_info": {
   "codemirror_mode": "r",
   "file_extension": ".r",
   "mimetype": "text/x-r-source",
   "name": "R",
   "pygments_lexer": "r",
   "version": "4.1.2"
  }
 },
 "nbformat": 4,
 "nbformat_minor": 2
}
