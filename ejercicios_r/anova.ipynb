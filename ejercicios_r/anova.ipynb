{
 "cells": [
  {
   "cell_type": "markdown",
   "metadata": {},
   "source": [
    "# 3.10 Exercises <img src=\"fcfm.png\" style=\"width: 80px;\" style=\"float: right;\"  align=\"right\"  margin-right= \"50px\"/>\n",
    "\n",
    "031 A2023 Estadística \n",
    "\n",
    "Dr. Álvaro Eduardo Cordero Franco\n",
    "\n",
    "Ismael Sandoval Aguilar \n",
    "\n",
    "Saturday 4th 2023"
   ]
  },
  {
   "cell_type": "markdown",
   "metadata": {},
   "source": [
    "1. A consultant was called to assist the police department of a large metropolitan city in evaluating its human relations course for new officers. He planned a two-factor factorial experiment where the treatments were A—the type beat to which officers were assigned, and B—the length of the human relations course. A sample of 45 new officers was chosen, and 5 were randomly assigned to each of the 9 treatment combinations. A test was developed to measure officers’ attitude toward minority groups and was administered to the participating officers after their training had ended and they had experienced two weeks on their beat. Better attitudes result in higher scores on this test. Analysis of the data revealed a significant A×B interaction effect between the type beat and length of human relations course."
   ]
  },
  {
   "cell_type": "markdown",
   "metadata": {},
   "source": [
    "- Construct an interaction graph."
   ]
  },
  {
   "cell_type": "code",
   "execution_count": null,
   "metadata": {
    "vscode": {
     "languageId": "r"
    }
   },
   "outputs": [
    {
     "ename": "",
     "evalue": "",
     "output_type": "error",
     "traceback": [
      "\u001b[1;31mFailed to start the Kernel. \n",
      "\u001b[1;31mView Jupyter <a href='command:jupyter.viewOutput'>log</a> for further details."
     ]
    }
   ],
   "source": [
    "# Libraries\n",
    "library(tidyverse)"
   ]
  },
  {
   "cell_type": "code",
   "execution_count": null,
   "metadata": {
    "vscode": {
     "languageId": "r"
    }
   },
   "outputs": [
    {
     "ename": "",
     "evalue": "",
     "output_type": "error",
     "traceback": [
      "\u001b[1;31mFailed to start the Kernel. \n",
      "\u001b[1;31mView Jupyter <a href='command:jupyter.viewOutput'>log</a> for further details."
     ]
    }
   ],
   "source": [
    "# Load the file\n",
    "data_3_1 <- read_csv(\"data_3_1.csv\")"
   ]
  },
  {
   "cell_type": "code",
   "execution_count": null,
   "metadata": {
    "vscode": {
     "languageId": "r"
    }
   },
   "outputs": [
    {
     "ename": "",
     "evalue": "",
     "output_type": "error",
     "traceback": [
      "\u001b[1;31mFailed to start the Kernel. \n",
      "\u001b[1;31mView Jupyter <a href='command:jupyter.viewOutput'>log</a> for further details."
     ]
    }
   ],
   "source": [
    "# Interaction plot\n",
    "interaction.plot(data_3_1$Length_of_Human_Relations_Course, data_3_1$Type_Beat, data_3_1$Mean_Test_Scores, # nolint: line_length_linter.\n",
    "                 main = \"Interaction Plot\",\n",
    "                 xlab = \"Length of Human Relations Course\",\n",
    "                 ylab = \"Mean Test Scores\",\n",
    "                 legend = TRUE)"
   ]
  },
  {
   "cell_type": "markdown",
   "metadata": {},
   "source": [
    "- Write an interpretation of the interaction in a few complete sentences.\n",
    "\n",
    "    From 10 hours to 15 hours:\n",
    "\n",
    "    - There might be no or little interaction between the \"middle-city beat\" and \"upper-class beat\" levels. \n",
    "    - There's an interaction between the \"inner-city beat\" level against all the other levels.  \n",
    "    - The positive slope of the \"inner-city beat\" level could suggest a main effect against the other levels. \n",
    "    - All lines have a maximum at 15 hours, which could suggest another main effect between the hours. \n",
    "\n",
    "    From 15 hours to 5 hours:\n",
    "\n",
    "    - All lines have a negative slope, suggesting a reversal main effect. \n",
    "    - There's an interaction between the two factors.\n",
    "    - All lines have a minimum at 5 hours. \n",
    "\n",
    "    Overall, there's an interaction between both factors."
   ]
  },
  {
   "cell_type": "markdown",
   "metadata": {},
   "source": [
    "2. A wooden catapult can be used to flip a foam ball. The catapult has three factors that can be adjusted: the start angle, the stop angle, and the pivot height. The distance the ball travels can be measured with a tape measure."
   ]
  },
  {
   "cell_type": "markdown",
   "metadata": {},
   "source": [
    "- If experiments were to be conducted with the catapult by flipping the ball and measuring the distance, what would the experimental unit be?\n",
    "\n",
    "    The foam ball."
   ]
  },
  {
   "cell_type": "markdown",
   "metadata": {},
   "source": [
    "- Using the numbers 1, 2, and 3 to represent the levels of start angle and stop angle, and holding the pivot height constant at its high level, make a randomized list of experiments for a 3×3 factorial experiment with r = 2 replicates per cell."
   ]
  },
  {
   "cell_type": "code",
   "execution_count": null,
   "metadata": {
    "vscode": {
     "languageId": "r"
    }
   },
   "outputs": [
    {
     "ename": "",
     "evalue": "",
     "output_type": "error",
     "traceback": [
      "\u001b[1;31mFailed to start the Kernel. \n",
      "\u001b[1;31mView Jupyter <a href='command:jupyter.viewOutput'>log</a> for further details."
     ]
    }
   ],
   "source": [
    "# Define the levels for the start angle and the stop angle\n",
    "start_angles <- c(1, 2, 3)\n",
    "stop_angles <- c(1, 2, 3)\n",
    "\n",
    "# Create a data frame with all combinations\n",
    "experiments <- expand.grid(start_angles, stop_angles)\n",
    "\n",
    "# Replicate the combinations\n",
    "replicated_design <- rbind(experiments, experiments)\n",
    "\n",
    "# Randomize the order of the experimental runs\n",
    "set.seed(100)\n",
    "randomize_design <- replicated_design[sample(nrow(replicated_design)), ]\n",
    "\n",
    "# Rename columns\n",
    "colnames(randomize_design)[1] <- \"start_angles\"\n",
    "colnames(randomize_design)[2] <- \"stop_angles\"\n",
    "\n",
    "# Remove the index\n",
    "row.names(randomize_design) <- NULL\n",
    "\n",
    "randomize_design"
   ]
  },
  {
   "cell_type": "markdown",
   "metadata": {},
   "source": [
    "- If the variance of the experimental error in the measured distance was $\\sigma^2 = 12$ inches, calculate the number of replicates you would need to have a power of 0.90 for detecting a difference in 10 inches in cell means."
   ]
  },
  {
   "cell_type": "markdown",
   "metadata": {},
   "source": [
    "- Calculate the number of replicates you would need to have a power of 0.90 for detecting a difference of 24 inches in marginal means for either factor."
   ]
  },
  {
   "cell_type": "markdown",
   "metadata": {},
   "source": [
    "- If a catapult is available, conduct the list of experiments you wrote in part (b)."
   ]
  },
  {
   "cell_type": "code",
   "execution_count": null,
   "metadata": {
    "vscode": {
     "languageId": "r"
    }
   },
   "outputs": [
    {
     "ename": "",
     "evalue": "",
     "output_type": "error",
     "traceback": [
      "\u001b[1;31mFailed to start the Kernel. \n",
      "\u001b[1;31mView Jupyter <a href='command:jupyter.viewOutput'>log</a> for further details."
     ]
    }
   ],
   "source": [
    "# Create a vector with random distances\n",
    "set.seed(100)\n",
    "distance <- runif(18, min = 20, max = 100)\n",
    "\n",
    "# Create a dataframe with the factors\n",
    "dataset <- data.frame(\n",
    "  distance = distance,\n",
    "  start_angles = randomize_design[1],\n",
    "  stop_angles = randomize_design[2]\n",
    ")\n",
    "\n",
    "dataset"
   ]
  },
  {
   "cell_type": "markdown",
   "metadata": {},
   "source": [
    "- Calculate the ANOVA with your resulting data and test the main effects and interaction."
   ]
  },
  {
   "cell_type": "code",
   "execution_count": null,
   "metadata": {
    "vscode": {
     "languageId": "r"
    }
   },
   "outputs": [
    {
     "ename": "",
     "evalue": "",
     "output_type": "error",
     "traceback": [
      "\u001b[1;31mFailed to start the Kernel. \n",
      "\u001b[1;31mView Jupyter <a href='command:jupyter.viewOutput'>log</a> for further details."
     ]
    }
   ],
   "source": [
    "# Generate the ANOVA model\n",
    "anova <- aov(distance ~ start_angles * stop_angles, data = dataset)"
   ]
  },
  {
   "cell_type": "markdown",
   "metadata": {},
   "source": [
    "The ANOVA model needs to follow the following asumptions:\n",
    "- Independence of observations.\n",
    "- The normality of the residuals are normal.\n",
    "- Homoscedasticity.\n",
    "\n",
    "Let's assume that the all observations are independent of each other. Now, to verify the normality of the residuals we are going to use the Shapiro-Wilk test with a level of significance of $\\alpha = 0.05$:"
   ]
  },
  {
   "cell_type": "code",
   "execution_count": null,
   "metadata": {
    "vscode": {
     "languageId": "r"
    }
   },
   "outputs": [
    {
     "ename": "",
     "evalue": "",
     "output_type": "error",
     "traceback": [
      "\u001b[1;31mFailed to start the Kernel. \n",
      "\u001b[1;31mView Jupyter <a href='command:jupyter.viewOutput'>log</a> for further details."
     ]
    }
   ],
   "source": [
    "# Shapiro-Wilk normality test\n",
    "shapiro.test(residuals(anova))"
   ]
  },
  {
   "cell_type": "markdown",
   "metadata": {},
   "source": [
    "Given that the p-value is greater than $\\alpha$, we can't reject the null hypothesis: there's enough evidence that the resisuals could be normaly distributed. Finally, we are going to verify the homoscedasticity of the data by using the Bartlett test with a level of significance of $\\alpha = 0.05$:"
   ]
  },
  {
   "cell_type": "code",
   "execution_count": null,
   "metadata": {
    "vscode": {
     "languageId": "r"
    }
   },
   "outputs": [
    {
     "ename": "",
     "evalue": "",
     "output_type": "error",
     "traceback": [
      "\u001b[1;31mFailed to start the Kernel. \n",
      "\u001b[1;31mView Jupyter <a href='command:jupyter.viewOutput'>log</a> for further details."
     ]
    }
   ],
   "source": [
    "bartlett.test(distance ~ interaction(start_angles, stop_angles), data = dataset)"
   ]
  },
  {
   "cell_type": "markdown",
   "metadata": {},
   "source": [
    "Since the p-value is greater than $\\alpha$ we cannot conclude that all the variances are equall."
   ]
  },
  {
   "cell_type": "code",
   "execution_count": null,
   "metadata": {
    "vscode": {
     "languageId": "r"
    }
   },
   "outputs": [
    {
     "ename": "",
     "evalue": "",
     "output_type": "error",
     "traceback": [
      "\u001b[1;31mFailed to start the Kernel. \n",
      "\u001b[1;31mView Jupyter <a href='command:jupyter.viewOutput'>log</a> for further details."
     ]
    }
   ],
   "source": [
    "#Results\n",
    "summary(anova)"
   ]
  },
  {
   "cell_type": "markdown",
   "metadata": {},
   "source": [
    "- Explain or interpret any significant effects (use graphs if necessary to aid in your explanation)."
   ]
  },
  {
   "cell_type": "code",
   "execution_count": null,
   "metadata": {
    "vscode": {
     "languageId": "r"
    }
   },
   "outputs": [
    {
     "ename": "",
     "evalue": "",
     "output_type": "error",
     "traceback": [
      "\u001b[1;31mFailed to start the Kernel. \n",
      "\u001b[1;31mView Jupyter <a href='command:jupyter.viewOutput'>log</a> for further details."
     ]
    }
   ],
   "source": [
    "# Interaction plot\n",
    "interaction.plot(dataset$start_angles, dataset$stop_angles, dataset$distance, # nolint: line_length_linter.\n",
    "                 main = \"Interaction Plot\",\n",
    "                 xlab = \"Start Angles\",\n",
    "                 ylab = \"Distance (cm)\",\n",
    "                 legend = TRUE)"
   ]
  },
  {
   "cell_type": "markdown",
   "metadata": {},
   "source": [
    "3. In an experiment to maximize the Y = resolution of a peak on a gas chromatograph, a significant interaction between A = column temperature and C = gas flow rate was found. "
   ]
  },
  {
   "cell_type": "markdown",
   "metadata": {},
   "source": [
    "- Construct an interaction graph."
   ]
  },
  {
   "cell_type": "code",
   "execution_count": null,
   "metadata": {
    "vscode": {
     "languageId": "r"
    }
   },
   "outputs": [
    {
     "ename": "",
     "evalue": "",
     "output_type": "error",
     "traceback": [
      "\u001b[1;31mFailed to start the Kernel. \n",
      "\u001b[1;31mView Jupyter <a href='command:jupyter.viewOutput'>log</a> for further details."
     ]
    }
   ],
   "source": [
    "# Load the file\n",
    "data3_3 <- read_csv(\"data_3_3.csv\")"
   ]
  },
  {
   "cell_type": "code",
   "execution_count": null,
   "metadata": {
    "vscode": {
     "languageId": "r"
    }
   },
   "outputs": [
    {
     "ename": "",
     "evalue": "",
     "output_type": "error",
     "traceback": [
      "\u001b[1;31mFailed to start the Kernel. \n",
      "\u001b[1;31mView Jupyter <a href='command:jupyter.viewOutput'>log</a> for further details."
     ]
    }
   ],
   "source": [
    "# Interaction Plot\n",
    "interaction.plot(data3_3$Gas_Flow_Rate, data3_3$Column_Temperature, data3_3$Resolution, # nolint: line_length_linter.\n",
    "                 main = \"Interaction Plot\",\n",
    "                 xlab = \"Gas Flow Rate\",\n",
    "                 ylab = \"Resolution of a peak on a gaschromatograph\",\n",
    "                 legend = TRUE)"
   ]
  },
  {
   "cell_type": "markdown",
   "metadata": {},
   "source": [
    "- Write a sentence, or two, to interpret this interaction.\n",
    "\n",
    "    There's a moderate reversal interaction between both factors. Also, the \"High\" level could be a main effect."
   ]
  }
 ],
 "metadata": {
  "kernelspec": {
   "display_name": "R",
   "language": "R",
   "name": "ir"
  },
  "language_info": {
   "codemirror_mode": "r",
   "file_extension": ".r",
   "mimetype": "text/x-r-source",
   "name": "R",
   "pygments_lexer": "r",
   "version": "4.3.1"
  }
 },
 "nbformat": 4,
 "nbformat_minor": 2
}
