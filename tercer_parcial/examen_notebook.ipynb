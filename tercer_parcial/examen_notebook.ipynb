{
 "cells": [
  {
   "cell_type": "markdown",
   "metadata": {},
   "source": [
    "\n",
    "# Tercer Examen Parcial <img src=\"fcfm.png\" style=\"width: 80px;\" style=\"float: right;\"  align=\"right\"  margin-right= \"50px\"/>\n",
    "\n",
    "031 A2023 Estadística \n",
    "\n",
    "Dr. Álvaro Eduardo Cordero Franco\n",
    "\n",
    "Ismael Sandoval Aguilar \n",
    "\n",
    "20 de octubre de 2023 "
   ]
  },
  {
   "cell_type": "markdown",
   "metadata": {},
   "source": [
    "#### Problemática"
   ]
  },
  {
   "cell_type": "markdown",
   "metadata": {},
   "source": [
    "En la mayoría de las condiciones de preservación, es difícil encontrar ejemplares completos de Trilobites. La cabeza (cephalon) suelta es mucho más común. Por ello, es útil poder estimar el tamaño del cuerpo en función de medidas sobre la cabeza, estableciendo cuáles de ellas constituyen la mejor determinación del tamaño total. La siguiente tabla nos proporciona un conjunto de datos del tamaño (body length) y 2 variables que se utilizarán como predictoras Glabellar Length y Glabellar Width. \n",
    "\n",
    "<img src=\"tabla.png\" style=\"width: 400px\" class=\"center\"/>\n",
    "\n",
    "Obtenga o realice:\n",
    "- Una ecuación de regresión lineal múltiple. \n",
    "- Las pruebas de hipótesis sobre ambas variables. \n",
    "- Grafique la variable de respuesta contra ambas variables e individualmente.\n",
    "- Una matriz de correlación entre las variables. \n",
    "- Concluya.  "
   ]
  },
  {
   "cell_type": "markdown",
   "metadata": {},
   "source": [
    "#### Preparación de datos"
   ]
  },
  {
   "cell_type": "code",
   "execution_count": 83,
   "metadata": {},
   "outputs": [],
   "source": [
    "# Librerias \n",
    "import numpy as np\n",
    "import pandas as pd"
   ]
  },
  {
   "cell_type": "code",
   "execution_count": 80,
   "metadata": {},
   "outputs": [
    {
     "data": {
      "text/html": [
       "<div>\n",
       "<style scoped>\n",
       "    .dataframe tbody tr th:only-of-type {\n",
       "        vertical-align: middle;\n",
       "    }\n",
       "\n",
       "    .dataframe tbody tr th {\n",
       "        vertical-align: top;\n",
       "    }\n",
       "\n",
       "    .dataframe thead th {\n",
       "        text-align: right;\n",
       "    }\n",
       "</style>\n",
       "<table border=\"1\" class=\"dataframe\">\n",
       "  <thead>\n",
       "    <tr style=\"text-align: right;\">\n",
       "      <th></th>\n",
       "      <th>Genus</th>\n",
       "      <th>Body Length</th>\n",
       "      <th>Glabellar Length</th>\n",
       "      <th>Glabellar Width</th>\n",
       "    </tr>\n",
       "  </thead>\n",
       "  <tbody>\n",
       "    <tr>\n",
       "      <th>0</th>\n",
       "      <td>Acaste</td>\n",
       "      <td>23.14</td>\n",
       "      <td>3.50</td>\n",
       "      <td>3.77</td>\n",
       "    </tr>\n",
       "    <tr>\n",
       "      <th>1</th>\n",
       "      <td>Balizoma</td>\n",
       "      <td>14.32</td>\n",
       "      <td>3.97</td>\n",
       "      <td>4.08</td>\n",
       "    </tr>\n",
       "    <tr>\n",
       "      <th>2</th>\n",
       "      <td>Calymene</td>\n",
       "      <td>51.69</td>\n",
       "      <td>10.91</td>\n",
       "      <td>10.72</td>\n",
       "    </tr>\n",
       "    <tr>\n",
       "      <th>3</th>\n",
       "      <td>Ceraurus</td>\n",
       "      <td>21.15</td>\n",
       "      <td>4.90</td>\n",
       "      <td>4.69</td>\n",
       "    </tr>\n",
       "    <tr>\n",
       "      <th>4</th>\n",
       "      <td>Cheirurus</td>\n",
       "      <td>31.74</td>\n",
       "      <td>9.33</td>\n",
       "      <td>12.11</td>\n",
       "    </tr>\n",
       "  </tbody>\n",
       "</table>\n",
       "</div>"
      ],
      "text/plain": [
       "       Genus  Body Length  Glabellar Length  Glabellar Width\n",
       "0     Acaste        23.14              3.50             3.77\n",
       "1   Balizoma        14.32              3.97             4.08\n",
       "2   Calymene        51.69             10.91            10.72\n",
       "3   Ceraurus        21.15              4.90             4.69\n",
       "4  Cheirurus        31.74              9.33            12.11"
      ]
     },
     "execution_count": 80,
     "metadata": {},
     "output_type": "execute_result"
    }
   ],
   "source": [
    "# Lectura de archivo\n",
    "df = pd.read_csv('data.csv')\n",
    "\n",
    "# Limpieza de datos y renombramiento de columnas\n",
    "df = df.dropna()\n",
    "\n",
    "df = df.rename(columns = {\n",
    "    'Body\\nLength ( mm )': 'Body Length',\n",
    "    'Glabellar\\nLength ( mm )': 'Glabellar Length',\n",
    "    'Glabellar\\nWidth ( mm )': 'Glabellar Width'\n",
    "})\n",
    "\n",
    "df.head()"
   ]
  },
  {
   "cell_type": "markdown",
   "metadata": {},
   "source": [
    "#### Ecuación de Regresión Lineal Múltiple"
   ]
  },
  {
   "cell_type": "code",
   "execution_count": 81,
   "metadata": {},
   "outputs": [],
   "source": [
    "# Librerias para realizar el modelo\n",
    "from sklearn.linear_model import LinearRegression"
   ]
  },
  {
   "cell_type": "code",
   "execution_count": 31,
   "metadata": {},
   "outputs": [],
   "source": [
    "# Declaracion de variables del modelo\n",
    "x = df[['Glabellar Length', 'Glabellar Width']]\n",
    "y = df['Body Length']"
   ]
  },
  {
   "cell_type": "code",
   "execution_count": 36,
   "metadata": {},
   "outputs": [],
   "source": [
    "# Creacion del modelo\n",
    "ln_model = LinearRegression().fit(x, y)"
   ]
  },
  {
   "cell_type": "code",
   "execution_count": 82,
   "metadata": {},
   "outputs": [
    {
     "data": {
      "text/html": [
       "<div>\n",
       "<style scoped>\n",
       "    .dataframe tbody tr th:only-of-type {\n",
       "        vertical-align: middle;\n",
       "    }\n",
       "\n",
       "    .dataframe tbody tr th {\n",
       "        vertical-align: top;\n",
       "    }\n",
       "\n",
       "    .dataframe thead th {\n",
       "        text-align: right;\n",
       "    }\n",
       "</style>\n",
       "<table border=\"1\" class=\"dataframe\">\n",
       "  <thead>\n",
       "    <tr style=\"text-align: right;\">\n",
       "      <th></th>\n",
       "      <th></th>\n",
       "      <th>Resultados</th>\n",
       "    </tr>\n",
       "  </thead>\n",
       "  <tbody>\n",
       "    <tr>\n",
       "      <th>0</th>\n",
       "      <td>b_0</td>\n",
       "      <td>4.0297</td>\n",
       "    </tr>\n",
       "    <tr>\n",
       "      <th>1</th>\n",
       "      <td>b_1</td>\n",
       "      <td>2.3425</td>\n",
       "    </tr>\n",
       "    <tr>\n",
       "      <th>2</th>\n",
       "      <td>b_2</td>\n",
       "      <td>1.1402</td>\n",
       "    </tr>\n",
       "    <tr>\n",
       "      <th>3</th>\n",
       "      <td>r_sq</td>\n",
       "      <td>0.8137</td>\n",
       "    </tr>\n",
       "  </tbody>\n",
       "</table>\n",
       "</div>"
      ],
      "text/plain": [
       "         Resultados\n",
       "0   b_0      4.0297\n",
       "1   b_1      2.3425\n",
       "2   b_2      1.1402\n",
       "3  r_sq      0.8137"
      ]
     },
     "execution_count": 82,
     "metadata": {},
     "output_type": "execute_result"
    }
   ],
   "source": [
    "# Resultados\n",
    "resultados_dict = {\n",
    "    '': ['b_0', 'b_1', 'b_2', 'r_sq'],\n",
    "    'Resultados': [round(ln_model.intercept_, 4),\n",
    "                   round(ln_model.coef_[0], 4),\n",
    "                   round(ln_model.coef_[1], 4),\n",
    "                   round(ln_model.score(x,y), 4)]\n",
    "}\n",
    "\n",
    "resultados_df = pd.DataFrame(resultados_dict, index = np.arange(4))\n",
    "resultados_df"
   ]
  },
  {
   "cell_type": "markdown",
   "metadata": {},
   "source": [
    "#### Pruebas de hipótesis sobre ambas variables"
   ]
  },
  {
   "cell_type": "markdown",
   "metadata": {},
   "source": [
    "#### Gráficas"
   ]
  },
  {
   "cell_type": "code",
   "execution_count": 84,
   "metadata": {},
   "outputs": [],
   "source": [
    "# Librerias para graficar \n",
    "import matplotlib.pyplot as plt"
   ]
  },
  {
   "cell_type": "code",
   "execution_count": 87,
   "metadata": {},
   "outputs": [],
   "source": [
    "# Realizar predicciones con el modelo\n",
    "y_pred = ln_model.predict(x)"
   ]
  },
  {
   "cell_type": "code",
   "execution_count": 92,
   "metadata": {},
   "outputs": [
    {
     "data": {
      "text/plain": [
       "<matplotlib.collections.PathCollection at 0x7f4a174aae00>"
      ]
     },
     "execution_count": 92,
     "metadata": {},
     "output_type": "execute_result"
    },
    {
     "data": {
      "image/png": "[encoded data removed]",
      "text/plain": [
       "<Figure size 640x480 with 1 Axes>"
      ]
     },
     "metadata": {},
     "output_type": "display_data"
    }
   ],
   "source": [
    "# Grafica de dispersion\n",
    "plt.scatter(df['Glabellar Length'], y)"
   ]
  },
  {
   "cell_type": "markdown",
   "metadata": {},
   "source": [
    "#### Matriz de correlación"
   ]
  },
  {
   "cell_type": "markdown",
   "metadata": {},
   "source": [
    "#### Conclusión"
   ]
  }
 ],
 "metadata": {
  "kernelspec": {
   "display_name": "base",
   "language": "python",
   "name": "python3"
  },
  "language_info": {
   "codemirror_mode": {
    "name": "ipython",
    "version": 3
   },
   "file_extension": ".py",
   "mimetype": "text/x-python",
   "name": "python",
   "nbconvert_exporter": "python",
   "pygments_lexer": "ipython3",
   "version": "3.10.12"
  }
 },
 "nbformat": 4,
 "nbformat_minor": 2
}
