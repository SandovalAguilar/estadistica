{
 "cells": [
  {
   "cell_type": "markdown",
   "metadata": {},
   "source": [
    "\n",
    "# Tercer Examen Parcial <img src=\"fcfm.png\" style=\"width: 80px;\" style=\"float: right;\"  align=\"right\"  margin-right= \"50px\"/>\n",
    "\n",
    "031 A2023 Estadística \n",
    "\n",
    "Dr. Álvaro Eduardo Cordero Franco\n",
    "\n",
    "Ismael Sandoval Aguilar \n",
    "\n",
    "20 de octubre de 2023 "
   ]
  },
  {
   "cell_type": "markdown",
   "metadata": {},
   "source": [
    "#### Problemática"
   ]
  },
  {
   "cell_type": "markdown",
   "metadata": {},
   "source": [
    "En la mayoría de las condiciones de preservación, es difícil encontrar ejemplares completos de Trilobites. La cabeza (cephalon) suelta es mucho más común. Por ello, es útil poder estimar el tamaño del cuerpo en función de medidas sobre la cabeza, estableciendo cuáles de ellas constituyen la mejor determinación del tamaño total. La siguiente tabla nos proporciona un conjunto de datos del tamaño (body length) y 2 variables que se utilizarán como predictoras Glabellar Length y Glabellar Width. \n",
    "\n",
    "<img src=\"tabla.png\" style=\"width: 400px\" class=\"center\"/>\n",
    "\n",
    "Obtenga o realice:\n",
    "- Una ecuación de regresión lineal múltiple. \n",
    "- Las pruebas de hipótesis sobre ambas variables. \n",
    "- Grafique la variable de respuesta contra ambas variables e individualmente.\n",
    "- Una matriz de correlación entre las variables. \n",
    "- Concluya.  "
   ]
  },
  {
   "cell_type": "markdown",
   "metadata": {},
   "source": [
    "#### Preparación de datos"
   ]
  },
  {
   "cell_type": "code",
   "execution_count": 2,
   "metadata": {},
   "outputs": [],
   "source": [
    "# Libraries\n",
    "import numpy as np\n",
    "import pandas as pd"
   ]
  },
  {
   "cell_type": "code",
   "execution_count": 3,
   "metadata": {},
   "outputs": [
    {
     "data": {
      "text/html": [
       "<div>\n",
       "<style scoped>\n",
       "    .dataframe tbody tr th:only-of-type {\n",
       "        vertical-align: middle;\n",
       "    }\n",
       "\n",
       "    .dataframe tbody tr th {\n",
       "        vertical-align: top;\n",
       "    }\n",
       "\n",
       "    .dataframe thead th {\n",
       "        text-align: right;\n",
       "    }\n",
       "</style>\n",
       "<table border=\"1\" class=\"dataframe\">\n",
       "  <thead>\n",
       "    <tr style=\"text-align: right;\">\n",
       "      <th></th>\n",
       "      <th>Genus</th>\n",
       "      <th>Body Length</th>\n",
       "      <th>Glabellar Length</th>\n",
       "      <th>Glabellar Width</th>\n",
       "    </tr>\n",
       "  </thead>\n",
       "  <tbody>\n",
       "    <tr>\n",
       "      <th>0</th>\n",
       "      <td>Acaste</td>\n",
       "      <td>23.14</td>\n",
       "      <td>3.50</td>\n",
       "      <td>3.77</td>\n",
       "    </tr>\n",
       "    <tr>\n",
       "      <th>1</th>\n",
       "      <td>Balizoma</td>\n",
       "      <td>14.32</td>\n",
       "      <td>3.97</td>\n",
       "      <td>4.08</td>\n",
       "    </tr>\n",
       "    <tr>\n",
       "      <th>2</th>\n",
       "      <td>Calymene</td>\n",
       "      <td>51.69</td>\n",
       "      <td>10.91</td>\n",
       "      <td>10.72</td>\n",
       "    </tr>\n",
       "    <tr>\n",
       "      <th>3</th>\n",
       "      <td>Ceraurus</td>\n",
       "      <td>21.15</td>\n",
       "      <td>4.90</td>\n",
       "      <td>4.69</td>\n",
       "    </tr>\n",
       "    <tr>\n",
       "      <th>4</th>\n",
       "      <td>Cheirurus</td>\n",
       "      <td>31.74</td>\n",
       "      <td>9.33</td>\n",
       "      <td>12.11</td>\n",
       "    </tr>\n",
       "  </tbody>\n",
       "</table>\n",
       "</div>"
      ],
      "text/plain": [
       "       Genus  Body Length  Glabellar Length  Glabellar Width\n",
       "0     Acaste        23.14              3.50             3.77\n",
       "1   Balizoma        14.32              3.97             4.08\n",
       "2   Calymene        51.69             10.91            10.72\n",
       "3   Ceraurus        21.15              4.90             4.69\n",
       "4  Cheirurus        31.74              9.33            12.11"
      ]
     },
     "execution_count": 3,
     "metadata": {},
     "output_type": "execute_result"
    }
   ],
   "source": [
    "# Dataset import\n",
    "df = pd.read_csv('data.csv')\n",
    "\n",
    "# Data cleaning and columm renaming \n",
    "df = df.dropna()\n",
    "\n",
    "df = df.rename(columns = {\n",
    "    'Body\\nLength ( mm )': 'Body Length',\n",
    "    'Glabellar\\nLength ( mm )': 'Glabellar Length',\n",
    "    'Glabellar\\nWidth ( mm )': 'Glabellar Width'\n",
    "})\n",
    "\n",
    "df.head()"
   ]
  },
  {
   "cell_type": "markdown",
   "metadata": {},
   "source": [
    "#### Ecuación de Regresión Lineal Múltiple"
   ]
  },
  {
   "cell_type": "code",
   "execution_count": 4,
   "metadata": {},
   "outputs": [],
   "source": [
    "# Libraries \n",
    "import statsmodels.api as sm"
   ]
  },
  {
   "cell_type": "markdown",
   "metadata": {},
   "source": [
    "El modelo constará de las siguientes variables dependientes e independientes:\n",
    "\n",
    "- $X_1$: \"Glabellar Length\".\n",
    "- $X_2$: \"Glabellar Width\".\n",
    "- $Y$: \"Body Length\"."
   ]
  },
  {
   "cell_type": "code",
   "execution_count": 40,
   "metadata": {},
   "outputs": [],
   "source": [
    "# Variables\n",
    "x = df[['Glabellar Length', 'Glabellar Width']]\n",
    "y = df['Body Length']"
   ]
  },
  {
   "cell_type": "code",
   "execution_count": 41,
   "metadata": {},
   "outputs": [],
   "source": [
    "# Model creation\n",
    "ln_model = sm.OLS(y, sm.add_constant(x)).fit()"
   ]
  },
  {
   "cell_type": "code",
   "execution_count": 42,
   "metadata": {},
   "outputs": [
    {
     "data": {
      "text/html": [
       "<div>\n",
       "<style scoped>\n",
       "    .dataframe tbody tr th:only-of-type {\n",
       "        vertical-align: middle;\n",
       "    }\n",
       "\n",
       "    .dataframe tbody tr th {\n",
       "        vertical-align: top;\n",
       "    }\n",
       "\n",
       "    .dataframe thead th {\n",
       "        text-align: right;\n",
       "    }\n",
       "</style>\n",
       "<table border=\"1\" class=\"dataframe\">\n",
       "  <thead>\n",
       "    <tr style=\"text-align: right;\">\n",
       "      <th></th>\n",
       "      <th></th>\n",
       "      <th>Coeficientes</th>\n",
       "    </tr>\n",
       "  </thead>\n",
       "  <tbody>\n",
       "    <tr>\n",
       "      <th>0</th>\n",
       "      <td>b_0</td>\n",
       "      <td>4.0297</td>\n",
       "    </tr>\n",
       "    <tr>\n",
       "      <th>1</th>\n",
       "      <td>b_1</td>\n",
       "      <td>2.3425</td>\n",
       "    </tr>\n",
       "    <tr>\n",
       "      <th>2</th>\n",
       "      <td>b_2</td>\n",
       "      <td>1.1402</td>\n",
       "    </tr>\n",
       "    <tr>\n",
       "      <th>3</th>\n",
       "      <td>R_2 ajustada</td>\n",
       "      <td>0.7918</td>\n",
       "    </tr>\n",
       "  </tbody>\n",
       "</table>\n",
       "</div>"
      ],
      "text/plain": [
       "                 Coeficientes\n",
       "0           b_0        4.0297\n",
       "1           b_1        2.3425\n",
       "2           b_2        1.1402\n",
       "3  R_2 ajustada        0.7918"
      ]
     },
     "execution_count": 42,
     "metadata": {},
     "output_type": "execute_result"
    }
   ],
   "source": [
    "# Results\n",
    "t_results_dict = {\n",
    "    '': ['b_0', 'b_1', 'b_2', 'R_2 ajustada'],\n",
    "    'Coeficientes': [round(ln_model.params[0], 4),\n",
    "                   round(ln_model.params[1], 4),\n",
    "                   round(ln_model.params[2], 4),\n",
    "                   # Note: the r-squared is already adjusted \n",
    "                   round(ln_model.rsquared_adj, 4)]\n",
    "}\n",
    "\n",
    "results_df = pd.DataFrame(t_results_dict, index = np.arange(4))\n",
    "results_df"
   ]
  },
  {
   "cell_type": "markdown",
   "metadata": {},
   "source": [
    "De modo que, de acuerdo a los resultados anteriores, la ecuación es:\n",
    "\n",
    "$Y = 4.0297 + 2.3425X_1 + 1.1402X_2$\n",
    "\n",
    "con un $R^2$ ajustada de $0.7918$."
   ]
  },
  {
   "cell_type": "markdown",
   "metadata": {},
   "source": [
    "#### Pruebas de hipótesis"
   ]
  },
  {
   "cell_type": "markdown",
   "metadata": {},
   "source": [
    "Se desea contrastar las siguientes hipótesis:\n",
    "\n",
    "- $H_0: \\beta_1 = 0$ v.s. $H_1: \\beta_1 \\neq 0$\n",
    "- $H_0: \\beta_2 = 0$ v.s. $H_1: \\beta_2 \\neq 0$\n",
    "\n",
    "Con un nivel de significancia $\\alpha = 0.05$ "
   ]
  },
  {
   "cell_type": "code",
   "execution_count": 8,
   "metadata": {},
   "outputs": [
    {
     "data": {
      "text/html": [
       "<div>\n",
       "<style scoped>\n",
       "    .dataframe tbody tr th:only-of-type {\n",
       "        vertical-align: middle;\n",
       "    }\n",
       "\n",
       "    .dataframe tbody tr th {\n",
       "        vertical-align: top;\n",
       "    }\n",
       "\n",
       "    .dataframe thead th {\n",
       "        text-align: right;\n",
       "    }\n",
       "</style>\n",
       "<table border=\"1\" class=\"dataframe\">\n",
       "  <thead>\n",
       "    <tr style=\"text-align: right;\">\n",
       "      <th></th>\n",
       "      <th></th>\n",
       "      <th>p-valores</th>\n",
       "    </tr>\n",
       "  </thead>\n",
       "  <tbody>\n",
       "    <tr>\n",
       "      <th>0</th>\n",
       "      <td>b_0</td>\n",
       "      <td>0.3879</td>\n",
       "    </tr>\n",
       "    <tr>\n",
       "      <th>1</th>\n",
       "      <td>b_1</td>\n",
       "      <td>0.0181</td>\n",
       "    </tr>\n",
       "    <tr>\n",
       "      <th>2</th>\n",
       "      <td>b_2</td>\n",
       "      <td>0.3126</td>\n",
       "    </tr>\n",
       "  </tbody>\n",
       "</table>\n",
       "</div>"
      ],
      "text/plain": [
       "        p-valores\n",
       "0  b_0     0.3879\n",
       "1  b_1     0.0181\n",
       "2  b_2     0.3126"
      ]
     },
     "execution_count": 8,
     "metadata": {},
     "output_type": "execute_result"
    }
   ],
   "source": [
    "# Results\n",
    "t_results_dict = {\n",
    "    '': ['b_0', 'b_1', 'b_2'],\n",
    "    'p-valores': [round(ln_model.pvalues[0], 4),\n",
    "                   round(ln_model.pvalues[1], 4),\n",
    "                   round(ln_model.pvalues[2], 4)],\n",
    "}\n",
    "\n",
    "results_df = pd.DataFrame(t_results_dict, index = np.arange(3))\n",
    "results_df"
   ]
  },
  {
   "cell_type": "markdown",
   "metadata": {},
   "source": [
    "Ya que el p-valor asociado a la hipótesis nula del coeficiente $\\beta_1$ es menor a $\\alpha$, existe evidencia suficiente para rechazar la hipótesis nula. Nótese que el resto de las hipótesis nulas no se rechazan. Por otra parte, para verificar que los residuos del modelo sigan una distribución normal, utilizaremos el estadístico de prueba de Shapiro-Wilk:\n",
    "\n",
    "${\\displaystyle W={\\left(\\sum \\limits _{i=1}^{n}a_{i}x_{(i)}\\right)^{2} \\over \\sum \\limits _{i=1}^{n}(x_{i}-{\\overline {x}})^{2}}}$\n",
    "\n",
    "Donde se busca constrastar:\n",
    "\n",
    "- $H_0: X \\sim \\mathcal{N}(\\mu,\\sigma^2)$ v.s. $H_1: X \\nsim \\mathcal{N}(\\mu,\\sigma^2)$\n",
    "\n",
    "Con un nivel de significancia $\\alpha = 0.05$."
   ]
  },
  {
   "cell_type": "code",
   "execution_count": 24,
   "metadata": {},
   "outputs": [],
   "source": [
    "# Library\n",
    "from scipy.stats import shapiro"
   ]
  },
  {
   "cell_type": "code",
   "execution_count": 43,
   "metadata": {},
   "outputs": [
    {
     "data": {
      "text/plain": [
       "0.7008"
      ]
     },
     "execution_count": 43,
     "metadata": {},
     "output_type": "execute_result"
    }
   ],
   "source": [
    "# Store the values of the residuals\n",
    "residuals = ln_model.resid\n",
    "\n",
    "# Conduct the Shapiro-Wilk test\n",
    "round(shapiro(residuals).pvalue, 4)"
   ]
  },
  {
   "cell_type": "markdown",
   "metadata": {},
   "source": [
    "Ya que el p-valor es mayor a $\\alpha$, no existe evidencia suficiente para rechazar $H_0$, es decir, es muy probable que los residuos sigan una distribución normal."
   ]
  },
  {
   "cell_type": "markdown",
   "metadata": {},
   "source": [
    "#### Gráficas"
   ]
  },
  {
   "cell_type": "code",
   "execution_count": 9,
   "metadata": {},
   "outputs": [],
   "source": [
    "# Libraries\n",
    "import matplotlib.pyplot as plt\n",
    "import seaborn as sns\n",
    "from statsmodels.graphics.regressionplots import abline_plot"
   ]
  },
  {
   "cell_type": "code",
   "execution_count": 20,
   "metadata": {},
   "outputs": [
    {
     "data": {
      "text/plain": [
       "<matplotlib.lines._AxLine at 0x7f1e7f3d0370>"
      ]
     },
     "execution_count": 20,
     "metadata": {},
     "output_type": "execute_result"
    },
    {
     "data": {
      "image/png": "[encoded data removed]",
      "text/plain": [
       "<Figure size 640x480 with 1 Axes>"
      ]
     },
     "metadata": {},
     "output_type": "display_data"
    }
   ],
   "source": [
    "# Model parameters\n",
    "p = ln_model.params\n",
    "\n",
    "# Scatter-plot data\n",
    "ax_1 = df.plot(x = 'Glabellar Length', y = 'Body Length', kind = 'scatter')\n",
    "\n",
    "# Plot regression line\n",
    "plt.axline(xy1 = (0, p[0]), slope = p[1])"
   ]
  },
  {
   "cell_type": "code",
   "execution_count": 11,
   "metadata": {},
   "outputs": [
    {
     "data": {
      "text/plain": [
       "<matplotlib.lines._AxLine at 0x7f1e7f726590>"
      ]
     },
     "execution_count": 11,
     "metadata": {},
     "output_type": "execute_result"
    },
    {
     "data": {
      "image/png": "[encoded data removed]",
      "text/plain": [
       "<Figure size 640x480 with 1 Axes>"
      ]
     },
     "metadata": {},
     "output_type": "display_data"
    }
   ],
   "source": [
    "ax_2 = df.plot(x = 'Glabellar Width', y = 'Body Length', kind = 'scatter')\n",
    "plt.axline(xy1 = (0, p[0]), slope = p[1])"
   ]
  },
  {
   "cell_type": "markdown",
   "metadata": {},
   "source": [
    "#### Matriz de correlación"
   ]
  },
  {
   "cell_type": "code",
   "execution_count": 12,
   "metadata": {},
   "outputs": [
    {
     "data": {
      "text/html": [
       "<style type=\"text/css\">\n",
       "#T_8832e_row0_col0, #T_8832e_row1_col1, #T_8832e_row2_col2 {\n",
       "  background-color: #b40426;\n",
       "  color: #f1f1f1;\n",
       "}\n",
       "#T_8832e_row0_col1 {\n",
       "  background-color: #8fb1fe;\n",
       "  color: #000000;\n",
       "}\n",
       "#T_8832e_row0_col2 {\n",
       "  background-color: #b1cbfc;\n",
       "  color: #000000;\n",
       "}\n",
       "#T_8832e_row1_col0, #T_8832e_row1_col2, #T_8832e_row2_col1 {\n",
       "  background-color: #3b4cc0;\n",
       "  color: #f1f1f1;\n",
       "}\n",
       "#T_8832e_row2_col0 {\n",
       "  background-color: #6384eb;\n",
       "  color: #f1f1f1;\n",
       "}\n",
       "</style>\n",
       "<table id=\"T_8832e\">\n",
       "  <thead>\n",
       "    <tr>\n",
       "      <th class=\"blank level0\" >&nbsp;</th>\n",
       "      <th id=\"T_8832e_level0_col0\" class=\"col_heading level0 col0\" >Glabellar Length</th>\n",
       "      <th id=\"T_8832e_level0_col1\" class=\"col_heading level0 col1\" >Body Length</th>\n",
       "      <th id=\"T_8832e_level0_col2\" class=\"col_heading level0 col2\" >Glabellar Width</th>\n",
       "    </tr>\n",
       "  </thead>\n",
       "  <tbody>\n",
       "    <tr>\n",
       "      <th id=\"T_8832e_level0_row0\" class=\"row_heading level0 row0\" >Glabellar Length</th>\n",
       "      <td id=\"T_8832e_row0_col0\" class=\"data row0 col0\" >1.000000</td>\n",
       "      <td id=\"T_8832e_row0_col1\" class=\"data row0 col1\" >0.895434</td>\n",
       "      <td id=\"T_8832e_row0_col2\" class=\"data row0 col2\" >0.909182</td>\n",
       "    </tr>\n",
       "    <tr>\n",
       "      <th id=\"T_8832e_level0_row1\" class=\"row_heading level0 row1\" >Body Length</th>\n",
       "      <td id=\"T_8832e_row1_col0\" class=\"data row1 col0\" >0.895434</td>\n",
       "      <td id=\"T_8832e_row1_col1\" class=\"data row1 col1\" >1.000000</td>\n",
       "      <td id=\"T_8832e_row1_col2\" class=\"data row1 col2\" >0.859479</td>\n",
       "    </tr>\n",
       "    <tr>\n",
       "      <th id=\"T_8832e_level0_row2\" class=\"row_heading level0 row2\" >Glabellar Width</th>\n",
       "      <td id=\"T_8832e_row2_col0\" class=\"data row2 col0\" >0.909182</td>\n",
       "      <td id=\"T_8832e_row2_col1\" class=\"data row2 col1\" >0.859479</td>\n",
       "      <td id=\"T_8832e_row2_col2\" class=\"data row2 col2\" >1.000000</td>\n",
       "    </tr>\n",
       "  </tbody>\n",
       "</table>\n"
      ],
      "text/plain": [
       "<pandas.io.formats.style.Styler at 0x7f1e7f6e07f0>"
      ]
     },
     "execution_count": 12,
     "metadata": {},
     "output_type": "execute_result"
    }
   ],
   "source": [
    "# Correlation matrix and plot\n",
    "matrix_corr = df[['Glabellar Length', 'Body Length', 'Glabellar Width']].corr()\n",
    "matrix_corr.style.background_gradient(cmap = 'coolwarm')"
   ]
  },
  {
   "cell_type": "markdown",
   "metadata": {},
   "source": [
    "#### Conclusión"
   ]
  },
  {
   "cell_type": "markdown",
   "metadata": {},
   "source": [
    "### Anexo\n"
   ]
  },
  {
   "cell_type": "code",
   "execution_count": 13,
   "metadata": {},
   "outputs": [
    {
     "data": {
      "text/html": [
       "<table class=\"simpletable\">\n",
       "<caption>OLS Regression Results</caption>\n",
       "<tr>\n",
       "  <th>Dep. Variable:</th>       <td>Body Length</td>   <th>  R-squared:         </th> <td>   0.814</td>\n",
       "</tr>\n",
       "<tr>\n",
       "  <th>Model:</th>                   <td>OLS</td>       <th>  Adj. R-squared:    </th> <td>   0.792</td>\n",
       "</tr>\n",
       "<tr>\n",
       "  <th>Method:</th>             <td>Least Squares</td>  <th>  F-statistic:       </th> <td>   37.12</td>\n",
       "</tr>\n",
       "<tr>\n",
       "  <th>Date:</th>             <td>Thu, 19 Oct 2023</td> <th>  Prob (F-statistic):</th> <td>6.27e-07</td>\n",
       "</tr>\n",
       "<tr>\n",
       "  <th>Time:</th>                 <td>22:51:37</td>     <th>  Log-Likelihood:    </th> <td> -69.553</td>\n",
       "</tr>\n",
       "<tr>\n",
       "  <th>No. Observations:</th>      <td>    20</td>      <th>  AIC:               </th> <td>   145.1</td>\n",
       "</tr>\n",
       "<tr>\n",
       "  <th>Df Residuals:</th>          <td>    17</td>      <th>  BIC:               </th> <td>   148.1</td>\n",
       "</tr>\n",
       "<tr>\n",
       "  <th>Df Model:</th>              <td>     2</td>      <th>                     </th>     <td> </td>   \n",
       "</tr>\n",
       "<tr>\n",
       "  <th>Covariance Type:</th>      <td>nonrobust</td>    <th>                     </th>     <td> </td>   \n",
       "</tr>\n",
       "</table>\n",
       "<table class=\"simpletable\">\n",
       "<tr>\n",
       "          <td></td>            <th>coef</th>     <th>std err</th>      <th>t</th>      <th>P>|t|</th>  <th>[0.025</th>    <th>0.975]</th>  \n",
       "</tr>\n",
       "<tr>\n",
       "  <th>const</th>            <td>    4.0297</td> <td>    4.547</td> <td>    0.886</td> <td> 0.388</td> <td>   -5.564</td> <td>   13.624</td>\n",
       "</tr>\n",
       "<tr>\n",
       "  <th>Glabellar Length</th> <td>    2.3425</td> <td>    0.896</td> <td>    2.615</td> <td> 0.018</td> <td>    0.453</td> <td>    4.232</td>\n",
       "</tr>\n",
       "<tr>\n",
       "  <th>Glabellar Width</th>  <td>    1.1402</td> <td>    1.096</td> <td>    1.041</td> <td> 0.313</td> <td>   -1.171</td> <td>    3.452</td>\n",
       "</tr>\n",
       "</table>\n",
       "<table class=\"simpletable\">\n",
       "<tr>\n",
       "  <th>Omnibus:</th>       <td> 1.634</td> <th>  Durbin-Watson:     </th> <td>   2.465</td>\n",
       "</tr>\n",
       "<tr>\n",
       "  <th>Prob(Omnibus):</th> <td> 0.442</td> <th>  Jarque-Bera (JB):  </th> <td>   0.915</td>\n",
       "</tr>\n",
       "<tr>\n",
       "  <th>Skew:</th>          <td> 0.524</td> <th>  Prob(JB):          </th> <td>   0.633</td>\n",
       "</tr>\n",
       "<tr>\n",
       "  <th>Kurtosis:</th>      <td> 2.965</td> <th>  Cond. No.          </th> <td>    35.0</td>\n",
       "</tr>\n",
       "</table><br/><br/>Notes:<br/>[1] Standard Errors assume that the covariance matrix of the errors is correctly specified."
      ],
      "text/latex": [
       "\\begin{center}\n",
       "\\begin{tabular}{lclc}\n",
       "\\toprule\n",
       "\\textbf{Dep. Variable:}    &   Body Length    & \\textbf{  R-squared:         } &     0.814   \\\\\n",
       "\\textbf{Model:}            &       OLS        & \\textbf{  Adj. R-squared:    } &     0.792   \\\\\n",
       "\\textbf{Method:}           &  Least Squares   & \\textbf{  F-statistic:       } &     37.12   \\\\\n",
       "\\textbf{Date:}             & Thu, 19 Oct 2023 & \\textbf{  Prob (F-statistic):} &  6.27e-07   \\\\\n",
       "\\textbf{Time:}             &     22:51:37     & \\textbf{  Log-Likelihood:    } &   -69.553   \\\\\n",
       "\\textbf{No. Observations:} &          20      & \\textbf{  AIC:               } &     145.1   \\\\\n",
       "\\textbf{Df Residuals:}     &          17      & \\textbf{  BIC:               } &     148.1   \\\\\n",
       "\\textbf{Df Model:}         &           2      & \\textbf{                     } &             \\\\\n",
       "\\textbf{Covariance Type:}  &    nonrobust     & \\textbf{                     } &             \\\\\n",
       "\\bottomrule\n",
       "\\end{tabular}\n",
       "\\begin{tabular}{lcccccc}\n",
       "                          & \\textbf{coef} & \\textbf{std err} & \\textbf{t} & \\textbf{P$> |$t$|$} & \\textbf{[0.025} & \\textbf{0.975]}  \\\\\n",
       "\\midrule\n",
       "\\textbf{const}            &       4.0297  &        4.547     &     0.886  &         0.388        &       -5.564    &       13.624     \\\\\n",
       "\\textbf{Glabellar Length} &       2.3425  &        0.896     &     2.615  &         0.018        &        0.453    &        4.232     \\\\\n",
       "\\textbf{Glabellar Width}  &       1.1402  &        1.096     &     1.041  &         0.313        &       -1.171    &        3.452     \\\\\n",
       "\\bottomrule\n",
       "\\end{tabular}\n",
       "\\begin{tabular}{lclc}\n",
       "\\textbf{Omnibus:}       &  1.634 & \\textbf{  Durbin-Watson:     } &    2.465  \\\\\n",
       "\\textbf{Prob(Omnibus):} &  0.442 & \\textbf{  Jarque-Bera (JB):  } &    0.915  \\\\\n",
       "\\textbf{Skew:}          &  0.524 & \\textbf{  Prob(JB):          } &    0.633  \\\\\n",
       "\\textbf{Kurtosis:}      &  2.965 & \\textbf{  Cond. No.          } &     35.0  \\\\\n",
       "\\bottomrule\n",
       "\\end{tabular}\n",
       "%\\caption{OLS Regression Results}\n",
       "\\end{center}\n",
       "\n",
       "Notes: \\newline\n",
       " [1] Standard Errors assume that the covariance matrix of the errors is correctly specified."
      ],
      "text/plain": [
       "<class 'statsmodels.iolib.summary.Summary'>\n",
       "\"\"\"\n",
       "                            OLS Regression Results                            \n",
       "==============================================================================\n",
       "Dep. Variable:            Body Length   R-squared:                       0.814\n",
       "Model:                            OLS   Adj. R-squared:                  0.792\n",
       "Method:                 Least Squares   F-statistic:                     37.12\n",
       "Date:                Thu, 19 Oct 2023   Prob (F-statistic):           6.27e-07\n",
       "Time:                        22:51:37   Log-Likelihood:                -69.553\n",
       "No. Observations:                  20   AIC:                             145.1\n",
       "Df Residuals:                      17   BIC:                             148.1\n",
       "Df Model:                           2                                         \n",
       "Covariance Type:            nonrobust                                         \n",
       "====================================================================================\n",
       "                       coef    std err          t      P>|t|      [0.025      0.975]\n",
       "------------------------------------------------------------------------------------\n",
       "const                4.0297      4.547      0.886      0.388      -5.564      13.624\n",
       "Glabellar Length     2.3425      0.896      2.615      0.018       0.453       4.232\n",
       "Glabellar Width      1.1402      1.096      1.041      0.313      -1.171       3.452\n",
       "==============================================================================\n",
       "Omnibus:                        1.634   Durbin-Watson:                   2.465\n",
       "Prob(Omnibus):                  0.442   Jarque-Bera (JB):                0.915\n",
       "Skew:                           0.524   Prob(JB):                        0.633\n",
       "Kurtosis:                       2.965   Cond. No.                         35.0\n",
       "==============================================================================\n",
       "\n",
       "Notes:\n",
       "[1] Standard Errors assume that the covariance matrix of the errors is correctly specified.\n",
       "\"\"\""
      ]
     },
     "execution_count": 13,
     "metadata": {},
     "output_type": "execute_result"
    }
   ],
   "source": [
    "ln_model.summary()"
   ]
  }
 ],
 "metadata": {
  "kernelspec": {
   "display_name": "base",
   "language": "python",
   "name": "python3"
  },
  "language_info": {
   "codemirror_mode": {
    "name": "ipython",
    "version": 3
   },
   "file_extension": ".py",
   "mimetype": "text/x-python",
   "name": "python",
   "nbconvert_exporter": "python",
   "pygments_lexer": "ipython3",
   "version": "3.10.12"
  }
 },
 "nbformat": 4,
 "nbformat_minor": 2
}
